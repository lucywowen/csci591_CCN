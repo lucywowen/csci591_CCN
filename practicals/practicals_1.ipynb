{
  "cells": [
    {
      "cell_type": "markdown",
      "metadata": {
        "id": "view-in-github",
        "colab_type": "text"
      },
      "source": [
        "<a href=\"https://colab.research.google.com/github/lucywowen/csci591_CCN/blob/main/practicals/practicals_1.ipynb\" target=\"_parent\"><img src=\"https://colab.research.google.com/assets/colab-badge.svg\" alt=\"Open In Colab\"/></a>"
      ]
    },
    {
      "cell_type": "markdown",
      "id": "03a44e75",
      "metadata": {
        "id": "03a44e75"
      },
      "source": [
        "# Practicals: basic math, some strings, and notebook intro\n"
      ]
    },
    {
      "cell_type": "markdown",
      "id": "1b2a9c8a",
      "metadata": {
        "id": "1b2a9c8a"
      },
      "source": [
        "## Basic notebook usage"
      ]
    },
    {
      "cell_type": "code",
      "execution_count": null,
      "id": "0fa2575a",
      "metadata": {
        "id": "0fa2575a"
      },
      "outputs": [],
      "source": [
        "# Explore the basic functionalities of a notebook.\n",
        "# Create a new comment cell, a new code cell, and try running some code in it."
      ]
    },
    {
      "cell_type": "markdown",
      "id": "28220626",
      "metadata": {
        "id": "28220626"
      },
      "source": [
        "## Types"
      ]
    },
    {
      "cell_type": "markdown",
      "id": "9ce5ba5d",
      "metadata": {
        "id": "9ce5ba5d"
      },
      "source": [
        "#### Basic maths"
      ]
    },
    {
      "cell_type": "code",
      "execution_count": null,
      "id": "8c099b85",
      "metadata": {
        "colab": {
          "base_uri": "https://localhost:8080/"
        },
        "id": "8c099b85",
        "outputId": "bb7a6660-ab94-46aa-b8c8-c84f81054a7b"
      },
      "outputs": [
        {
          "output_type": "stream",
          "name": "stdout",
          "text": [
            "42\n"
          ]
        }
      ],
      "source": [
        "# Average these numbers: 49, 12, 86. then calculate the cube of the average and subtract 115885;\n",
        "# then calculate the square root, and assign it to a variable. Finally, convert it to an int and print it!\n",
        "\n",
        "result = (((49 + 12 + 86) / 3) ** 3 - 115885) ** (1 / 2)\n",
        "\n",
        "result = int(result)\n",
        "print(result)"
      ]
    },
    {
      "cell_type": "code",
      "execution_count": null,
      "id": "8316e465",
      "metadata": {
        "colab": {
          "base_uri": "https://localhost:8080/"
        },
        "id": "8316e465",
        "outputId": "2c3d12f0-9b28-47a5-e5a4-c975a63b1d16"
      },
      "outputs": [
        {
          "output_type": "stream",
          "name": "stdout",
          "text": [
            "2\n",
            "2\n"
          ]
        }
      ],
      "source": [
        "# Determine the integer division and remainder from the following calculation,\n",
        "# and assign to variables: 12 divided by 5\n",
        "\n",
        "division_int = 12 // 5\n",
        "print(division_int)\n",
        "\n",
        "module = 12 % 5\n",
        "print(module)"
      ]
    },
    {
      "cell_type": "code",
      "execution_count": null,
      "id": "2c5c81d1",
      "metadata": {
        "colab": {
          "base_uri": "https://localhost:8080/"
        },
        "id": "2c5c81d1",
        "outputId": "6cbfb0c1-7945-4a70-e669-42dfd18fd651"
      },
      "outputs": [
        {
          "output_type": "execute_result",
          "data": {
            "text/plain": [
              "6000.0"
            ]
          },
          "metadata": {},
          "execution_count": 5
        }
      ],
      "source": [
        "# Consider a spinal motorneuron innervating the toe. If we scale the neuron up so that the soma get\n",
        "# to the diameter of a football ball, how long will the scaled axon be?\n",
        "# Ballpark all quantities and assign them to variables before using them in the calculation:\n",
        "soma_real_size = 50 * (10**-6)\n",
        "axon_real_size = 1\n",
        "\n",
        "soma_scaled_size = 0.3\n",
        "\n",
        "#\n",
        "\n",
        "axon_scaled_size = (soma_scaled_size / soma_real_size) * axon_real_size\n",
        "axon_scaled_size"
      ]
    },
    {
      "cell_type": "code",
      "execution_count": null,
      "id": "7c574cdd",
      "metadata": {
        "id": "7c574cdd"
      },
      "outputs": [],
      "source": [
        "# You can think of a camera as a device counting the photons that reach every pixel sensor during the exposure time.\n",
        "# If the maximum number of photons that reach a pixel is 50000, how many bits do you need to count them?\n",
        "# And how many bytes?\n",
        "# Is a Python int an efficient type for storing the information of a pixel of this device?\n",
        "# Remember, the Python int type uses at least 24 bytes, of which 8 bytes are used to store the number,\n",
        "# and the rest is overhead.\n",
        "\n",
        "2**16  # 16 bits, or 2 bytes"
      ]
    },
    {
      "cell_type": "markdown",
      "id": "31d0ec9e",
      "metadata": {
        "id": "31d0ec9e"
      },
      "source": [
        "#### Strings"
      ]
    },
    {
      "cell_type": "code",
      "execution_count": null,
      "id": "c557f71a",
      "metadata": {
        "colab": {
          "base_uri": "https://localhost:8080/",
          "height": 35
        },
        "id": "c557f71a",
        "outputId": "b2ecad3f-4888-4950-8156-6f2ed243dd8f"
      },
      "outputs": [
        {
          "output_type": "execute_result",
          "data": {
            "text/plain": [
              "'ChinaChinaChinaChinaChinaChinaChinaChinaChinaChinaChinaChinaChinaChinaChinaChinaChinaChinaChinaChina'"
            ],
            "application/vnd.google.colaboratory.intrinsic+json": {
              "type": "string"
            }
          },
          "metadata": {},
          "execution_count": 6
        }
      ],
      "source": [
        "# Create a Trump quote generator (https://www.youtube.com/watch?v=RDrfE9I8_hs)\n",
        "# by repeating 40 times the word \"China\". Start from the existing variable:\n",
        "quote = \"China\"\n",
        "\n",
        "# And remember what we have seen on matematical operations with strings!\n",
        "\n",
        "quote * 20"
      ]
    },
    {
      "cell_type": "code",
      "execution_count": null,
      "id": "b31d6cd9",
      "metadata": {
        "colab": {
          "base_uri": "https://localhost:8080/",
          "height": 35
        },
        "id": "b31d6cd9",
        "outputId": "44bc4313-2d7c-4be5-bd96-64c721479dd6"
      },
      "outputs": [
        {
          "output_type": "execute_result",
          "data": {
            "text/plain": [
              "'China China China China China China China China China China China China China China China China China China China China '"
            ],
            "application/vnd.google.colaboratory.intrinsic+json": {
              "type": "string"
            }
          },
          "metadata": {},
          "execution_count": 7
        }
      ],
      "source": [
        "# Repeat the above, but incorporate spaces between the repeats\n",
        "# (keep using the variable defined above without redefining, and again remember math with strings!):\n",
        "\n",
        "(quote + \" \") * 20"
      ]
    },
    {
      "cell_type": "code",
      "execution_count": null,
      "id": "ad114c2c",
      "metadata": {
        "colab": {
          "base_uri": "https://localhost:8080/",
          "height": 35
        },
        "id": "ad114c2c",
        "outputId": "92afebd7-d1b8-425a-ab4b-fe2fb8824e29"
      },
      "outputs": [
        {
          "output_type": "execute_result",
          "data": {
            "text/plain": [
              "\"Let's say: China China China China China China China China China China China China China China China China China China China China !\""
            ],
            "application/vnd.google.colaboratory.intrinsic+json": {
              "type": "string"
            }
          },
          "metadata": {},
          "execution_count": 8
        }
      ],
      "source": [
        "# To complete the quote, format the result of the above operation in the following string:\n",
        "\n",
        "incipit = \"Let's say: {}!\"\n",
        "\n",
        "incipit.format((quote + \" \") * 20)"
      ]
    },
    {
      "cell_type": "code",
      "execution_count": null,
      "id": "5e90532f",
      "metadata": {
        "colab": {
          "base_uri": "https://localhost:8080/"
        },
        "id": "5e90532f",
        "outputId": "dbb2ac20-ea35-49ae-836d-37852f9bd9e8"
      },
      "outputs": [
        {
          "output_type": "execute_result",
          "data": {
            "text/plain": [
              "[' Betty Botter bought some butter but, said she, the butter’s bitter',\n",
              " ' If I put it in my batter, it will make my batter bitter',\n",
              " '']"
            ]
          },
          "metadata": {},
          "execution_count": 9
        }
      ],
      "source": [
        "# Split the following text in a list of individual words using the .split() method:\n",
        "\n",
        "text = \" Betty Botter bought some butter but, said she, the butter’s bitter. If I put it in my batter, it will make my batter bitter.\"\n",
        "\n",
        "text.split(\".\")"
      ]
    },
    {
      "cell_type": "code",
      "execution_count": null,
      "id": "a40782c6",
      "metadata": {
        "id": "a40782c6"
      },
      "outputs": [],
      "source": []
    }
  ],
  "metadata": {
    "kernelspec": {
      "display_name": "Python 3 (ipykernel)",
      "language": "python",
      "name": "python3"
    },
    "language_info": {
      "codemirror_mode": {
        "name": "ipython",
        "version": 3
      },
      "file_extension": ".py",
      "mimetype": "text/x-python",
      "name": "python",
      "nbconvert_exporter": "python",
      "pygments_lexer": "ipython3"
    },
    "colab": {
      "provenance": [],
      "name": "practicals_1.ipynb",
      "include_colab_link": true
    }
  },
  "nbformat": 4,
  "nbformat_minor": 5
}