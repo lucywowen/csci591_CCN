{
  "cells": [
    {
      "cell_type": "markdown",
      "metadata": {
        "id": "view-in-github",
        "colab_type": "text"
      },
      "source": [
        "<a href=\"https://colab.research.google.com/github/lucywowen/csci591_CCN/blob/main/practicals/practicals_2.ipynb\" target=\"_parent\"><img src=\"https://colab.research.google.com/assets/colab-badge.svg\" alt=\"Open In Colab\"/></a>"
      ]
    },
    {
      "cell_type": "markdown",
      "id": "03a44e75",
      "metadata": {
        "id": "03a44e75"
      },
      "source": [
        "# Practical: data containers, indexing, control statements, and list comprehension"
      ]
    },
    {
      "cell_type": "markdown",
      "id": "5333bf92",
      "metadata": {
        "id": "5333bf92"
      },
      "source": [
        "## Data containers"
      ]
    },
    {
      "cell_type": "markdown",
      "id": "cefcbc31",
      "metadata": {
        "id": "cefcbc31"
      },
      "source": [
        "#### Lists"
      ]
    },
    {
      "cell_type": "code",
      "execution_count": null,
      "id": "d36921d1",
      "metadata": {
        "colab": {
          "base_uri": "https://localhost:8080/"
        },
        "id": "d36921d1",
        "outputId": "c12d4f5f-639f-41bc-ff5c-23837621f453"
      },
      "outputs": [
        {
          "output_type": "execute_result",
          "data": {
            "text/plain": [
              "['The', 'is', 'world', 'of', 'number']"
            ]
          },
          "metadata": {},
          "execution_count": 2
        }
      ],
      "source": [
        "# Use the .split() method to create a list of words from this string:\n",
        "a_string = \"The brain is a world consisting of a number of unexplored continents and great stretches of unknown territory.\"\n",
        "\n",
        "word_list = a_string.split()\n",
        "\n",
        "# Using indexing, take one every two of the first 10 elements from this list:\n",
        "selected_elements = word_list[:10:2]\n",
        "selected_elements"
      ]
    },
    {
      "cell_type": "code",
      "execution_count": null,
      "id": "3751c1c3",
      "metadata": {
        "id": "3751c1c3"
      },
      "outputs": [],
      "source": [
        "# Then, replace the first element of the `selected_elements` list with a new string of your choice:\n",
        "selected_elements[0] = \"new_string\""
      ]
    },
    {
      "cell_type": "code",
      "execution_count": null,
      "id": "0b479eb3",
      "metadata": {
        "id": "0b479eb3"
      },
      "outputs": [],
      "source": [
        "# Use the .append() method to join one additional string of your choice to `selected_elements`:\n",
        "\n",
        "selected_elements.append(\"appended_string\")"
      ]
    },
    {
      "cell_type": "code",
      "execution_count": null,
      "id": "1e33e3d5",
      "metadata": {
        "id": "1e33e3d5"
      },
      "outputs": [],
      "source": [
        "# What happens if you try to .append() a list of values instead of a single value? try!\n",
        "\n",
        "# We will add a single entry in the list that is a list itself!"
      ]
    },
    {
      "cell_type": "code",
      "execution_count": null,
      "id": "4e6f5e1c",
      "metadata": {
        "colab": {
          "base_uri": "https://localhost:8080/"
        },
        "id": "4e6f5e1c",
        "outputId": "736e67e9-e445-4ad8-c7b0-02099300607e"
      },
      "outputs": [
        {
          "output_type": "execute_result",
          "data": {
            "text/plain": [
              "['new_string', 'is', 'world', 'of', 'number', 'appended_string', 'a', 'b', 'c']"
            ]
          },
          "metadata": {},
          "execution_count": 6
        }
      ],
      "source": [
        "# Use the correct operator to add a list of three new strings to the selected_elements list:\n",
        "\n",
        "selected_elements = selected_elements + [\"a\", \"b\", \"c\"]\n",
        "selected_elements"
      ]
    },
    {
      "cell_type": "markdown",
      "id": "d44e8874",
      "metadata": {
        "id": "d44e8874"
      },
      "source": [
        "#### Dictionaries"
      ]
    },
    {
      "cell_type": "code",
      "execution_count": null,
      "id": "614e9c24",
      "metadata": {
        "colab": {
          "base_uri": "https://localhost:8080/"
        },
        "id": "614e9c24",
        "outputId": "4572c9f1-f48c-4e22-9735-d2ac68540533"
      },
      "outputs": [
        {
          "output_type": "execute_result",
          "data": {
            "text/plain": [
              "{'The': 3, 'brain': 5, 'is': 2}"
            ]
          },
          "metadata": {},
          "execution_count": 7
        }
      ],
      "source": [
        "# Take the first three elements of the word list word_list that we defined above.\n",
        "# Create a dictionary that has three entries: each entry has one of the strings in the list as key, and\n",
        "# the length of the string (calculate it with `len()`).\n",
        "# (You can use loops of you already know them - otherwise, define all entries manually)\n",
        "\n",
        "len_dict = dict()\n",
        "for word in word_list[:3]:\n",
        "    len_dict[word] = len(word)\n",
        "len_dict"
      ]
    },
    {
      "cell_type": "markdown",
      "id": "e0c52ebb",
      "metadata": {
        "id": "e0c52ebb"
      },
      "source": [
        "#### Tuples"
      ]
    },
    {
      "cell_type": "code",
      "execution_count": null,
      "id": "61ae9855",
      "metadata": {
        "colab": {
          "base_uri": "https://localhost:8080/",
          "height": 180
        },
        "id": "61ae9855",
        "outputId": "3facba0d-4d38-4473-ad4c-a487cc7c22f2"
      },
      "outputs": [
        {
          "output_type": "error",
          "ename": "TypeError",
          "evalue": "'tuple' object does not support item assignment",
          "traceback": [
            "\u001b[0;31m---------------------------------------------------------------------------\u001b[0m",
            "\u001b[0;31mTypeError\u001b[0m                                 Traceback (most recent call last)",
            "\u001b[0;32m<ipython-input-8-2edd59c4af64>\u001b[0m in \u001b[0;36m<cell line: 6>\u001b[0;34m()\u001b[0m\n\u001b[1;32m      4\u001b[0m \u001b[0;31m# Can you change the first element of the queue? Try!\u001b[0m\u001b[0;34m\u001b[0m\u001b[0;34m\u001b[0m\u001b[0m\n\u001b[1;32m      5\u001b[0m \u001b[0;34m\u001b[0m\u001b[0m\n\u001b[0;32m----> 6\u001b[0;31m \u001b[0ma_tuple\u001b[0m\u001b[0;34m[\u001b[0m\u001b[0;36m0\u001b[0m\u001b[0;34m]\u001b[0m \u001b[0;34m=\u001b[0m \u001b[0;34m\"a\"\u001b[0m  \u001b[0;31m# will give error as tuples are not mutable!\u001b[0m\u001b[0;34m\u001b[0m\u001b[0;34m\u001b[0m\u001b[0m\n\u001b[0m",
            "\u001b[0;31mTypeError\u001b[0m: 'tuple' object does not support item assignment"
          ]
        }
      ],
      "source": [
        "# Convert to a tuple the word list `word_list` defined above.\n",
        "a_tuple = tuple(word_list)\n",
        "\n",
        "# Can you change the first element of the queue? Try!\n",
        "\n",
        "a_tuple[0] = \"a\"  # will give error as tuples are not mutable!"
      ]
    },
    {
      "cell_type": "markdown",
      "id": "c7a1589a",
      "metadata": {
        "id": "c7a1589a"
      },
      "source": [
        "#### Sets"
      ]
    },
    {
      "cell_type": "code",
      "execution_count": null,
      "id": "f215b3a8",
      "metadata": {
        "colab": {
          "base_uri": "https://localhost:8080/"
        },
        "id": "f215b3a8",
        "outputId": "6a490632-6f5c-498e-d265-028cbd60191c"
      },
      "outputs": [
        {
          "output_type": "execute_result",
          "data": {
            "text/plain": [
              "True"
            ]
          },
          "metadata": {},
          "execution_count": 9
        }
      ],
      "source": [
        "# We want to know if two lists of values contain the same items.\n",
        "\n",
        "items_list1 = [20, 19, 32, 1, 3, 45, 2, 5, 4, 12, 7]\n",
        "items_list2 = [45, 2, 12, 19, 32, 4, 7, 3, 5, 1, 20]\n",
        "\n",
        "# Can we just check if the lists are the same with a `==` operation? If no, why?\n",
        "# No, as the order changes!\n",
        "\n",
        "# Try then to compare them to set before performing the comparison:\n",
        "set(items_list1) == set(items_list2)"
      ]
    },
    {
      "cell_type": "code",
      "execution_count": null,
      "id": "885efb60",
      "metadata": {
        "colab": {
          "base_uri": "https://localhost:8080/"
        },
        "id": "885efb60",
        "outputId": "9c36d3df-25ad-4993-b4bb-6b49e08747c4"
      },
      "outputs": [
        {
          "output_type": "execute_result",
          "data": {
            "text/plain": [
              "{'Christian'}"
            ]
          },
          "metadata": {},
          "execution_count": 10
        }
      ],
      "source": [
        "# Use sets operations to find the a place that might fit the preferences of Mark, Melissa and Mattew:\n",
        "mark_top_three = [\"Putipù\", \"Pizzangolo\", \"Christian\"]\n",
        "melissa_top_three = [\"Dogali\", \"Christian\", \"River\"]\n",
        "mattew_top_three = [\"Christian\", \"Putipù\", \"Pizzangolo\"]\n",
        "\n",
        "# First, convert all the lists in sets:\n",
        "mark_top_three_set = set(mark_top_three)\n",
        "melissa_top_three_set = set(melissa_top_three)\n",
        "mattew_top_three_set = set(mattew_top_three)\n",
        "\n",
        "# Then, think about the correct set operation that will give you their overlapping choices:\n",
        "\n",
        "mattew_top_three_set.intersection(melissa_top_three_set, mark_top_three_set)"
      ]
    },
    {
      "cell_type": "markdown",
      "id": "2d2a4f38",
      "metadata": {
        "id": "2d2a4f38"
      },
      "source": [
        "## Control structures"
      ]
    },
    {
      "cell_type": "markdown",
      "id": "5066fd11",
      "metadata": {
        "id": "5066fd11"
      },
      "source": [
        "#### Conditionals with if"
      ]
    },
    {
      "cell_type": "code",
      "execution_count": null,
      "id": "01da4096",
      "metadata": {
        "colab": {
          "base_uri": "https://localhost:8080/"
        },
        "id": "01da4096",
        "outputId": "c67271cb-c482-4808-e1be-c26901ba7532"
      },
      "outputs": [
        {
          "output_type": "stream",
          "name": "stdout",
          "text": [
            "Even\n"
          ]
        }
      ],
      "source": [
        "# Write a program that prints if a given number is even or odd:\n",
        "\n",
        "number_to_test = 30  # change the value of this variable to test other cases\n",
        "\n",
        "if number_to_test % 2 == 0:\n",
        "    print(\"Even\")\n",
        "else:\n",
        "    print(\"Odd\")"
      ]
    },
    {
      "cell_type": "code",
      "execution_count": null,
      "id": "7c86051e",
      "metadata": {
        "colab": {
          "base_uri": "https://localhost:8080/",
          "height": 35
        },
        "id": "7c86051e",
        "outputId": "fcee5be7-97d8-44c9-9725-67baa85450ce"
      },
      "outputs": [
        {
          "output_type": "execute_result",
          "data": {
            "text/plain": [
              "'B'"
            ],
            "application/vnd.google.colaboratory.intrinsic+json": {
              "type": "string"
            }
          },
          "metadata": {},
          "execution_count": 12
        }
      ],
      "source": [
        "# Write a program to assign grades given a score. If the score is out of range, print an error.\n",
        "# If the score is between 0.0 and 1.0, print a grade using the following table:\n",
        "# Score Grade\n",
        "# >= 0.9 A\n",
        "# >= 0.8 B\n",
        "# >= 0.7 C\n",
        "# >= 0.6 D\n",
        "# < 0.6 F\n",
        "# If the user enters a value out of range, print a suitable error message and exit.\n",
        "\n",
        "score = 0.8  # change the value of this variable to test other cases\n",
        "\n",
        "if score >= 0.9:\n",
        "    grade = \"A\"\n",
        "elif score >= 0.8:\n",
        "    grade = \"B\"\n",
        "elif score >= 0.7:\n",
        "    grade = \"C\"\n",
        "elif score >= 0.6:\n",
        "    grade = \"D\"\n",
        "else:\n",
        "    grade = \"F\"\n",
        "grade"
      ]
    },
    {
      "cell_type": "code",
      "execution_count": null,
      "id": "4b06c8e4",
      "metadata": {
        "colab": {
          "base_uri": "https://localhost:8080/"
        },
        "id": "4b06c8e4",
        "outputId": "3427de1d-12ef-47ec-a5c9-38f425f45f45"
      },
      "outputs": [
        {
          "output_type": "stream",
          "name": "stdout",
          "text": [
            "kayak is palindrome!\n"
          ]
        }
      ],
      "source": [
        "# Write code that checks out if a string is a palindrome, and if it is, prints \"{word} is palindrome!\"\n",
        "# Hint: you can revert a word with an indexing operation specifying negative steps: `[::-1]`\n",
        "\n",
        "word = \"kayak\"\n",
        "\n",
        "if word == word[::-1]:\n",
        "    print(f\"{word} is palindrome!\")"
      ]
    },
    {
      "cell_type": "code",
      "execution_count": null,
      "id": "af22a93e",
      "metadata": {
        "colab": {
          "base_uri": "https://localhost:8080/"
        },
        "id": "af22a93e",
        "outputId": "6dc16feb-05ad-41a9-cbbe-8cadaf3ef917"
      },
      "outputs": [
        {
          "output_type": "stream",
          "name": "stdout",
          "text": [
            "'Madam in Eden, I'm Adam' is palindrome!\n"
          ]
        }
      ],
      "source": [
        "# bonus question: check out the palindromy of full sentences.\n",
        "# Remember to make them lowercase and to first remove the whitespaces.\n",
        "#         You can do this by replacing whitespaces (\" \") with no character (\"\"),\n",
        "#         using the string.replace()\n",
        "\n",
        "sentence = \"Madam in Eden, I'm Adam\"\n",
        "no_whitesp_sentence = sentence.lower()\n",
        "\n",
        "for char_to_replace in [\" \", \"'\", \",\"]:\n",
        "    no_whitesp_sentence = no_whitesp_sentence.replace(char_to_replace, \"\")\n",
        "\n",
        "\n",
        "if no_whitesp_sentence == no_whitesp_sentence[::-1]:\n",
        "    print(f\"'{sentence}' is palindrome!\")"
      ]
    },
    {
      "cell_type": "markdown",
      "id": "8bc85d05",
      "metadata": {
        "id": "8bc85d05"
      },
      "source": [
        "#### Iterations with for"
      ]
    },
    {
      "cell_type": "code",
      "execution_count": null,
      "id": "1e1d414f",
      "metadata": {
        "colab": {
          "base_uri": "https://localhost:8080/"
        },
        "id": "1e1d414f",
        "outputId": "e5743275-9c24-4abd-de00-f7b6c1ff7cc9"
      },
      "outputs": [
        {
          "output_type": "execute_result",
          "data": {
            "text/plain": [
              "[0, 1, 2, 3, 4, 5, 6, 7, 8, 9]"
            ]
          },
          "metadata": {},
          "execution_count": 15
        }
      ],
      "source": [
        "# Create an empty list. Then, write a for loop to fill the list (using .append()) with numbers from 0 to 9\n",
        "# Make sure that the final list has 10 elements!\n",
        "a_list = []\n",
        "\n",
        "for i in range(10):\n",
        "    a_list.append(i)\n",
        "\n",
        "\n",
        "# Can you do the same operation in one line with a list comprehension?\n",
        "a_list = [i for i in range(10)]\n",
        "\n",
        "list(range(10))"
      ]
    },
    {
      "cell_type": "code",
      "execution_count": null,
      "id": "b9d71cae",
      "metadata": {
        "colab": {
          "base_uri": "https://localhost:8080/"
        },
        "id": "b9d71cae",
        "outputId": "cd533652-262a-445b-99ea-02041c105701"
      },
      "outputs": [
        {
          "output_type": "execute_result",
          "data": {
            "text/plain": [
              "[45, 145, 245]"
            ]
          },
          "metadata": {},
          "execution_count": 16
        }
      ],
      "source": [
        "# Create an empty list.\n",
        "# Then, write a for loop where you iterate 3 times with the variable j, and in each iteration you\n",
        "# add to the empty list a list of 10 elements with numbers from 0 to 9 + 10*j.\n",
        "# The final result should be a list looking like this:\n",
        "# ```\n",
        "# a_list = [[0, 1, 2, ...],\n",
        "#           [10, 11, 12, ...],\n",
        "#           [20, 21, 22, ...]]\n",
        "# ```\n",
        "list_of_lists = []\n",
        "\n",
        "for j in range(3):\n",
        "    list_of_lists.append([i + j * 10 for i in range(10)])\n",
        "\n",
        "\n",
        "# Then, using a for loop, compute the sum of each of the three sub-lists and append the results to a list.\n",
        "# The results list should have length 3. To sum, you can use the `sum()` function over a list.\n",
        "sums_list = []\n",
        "\n",
        "for sublist in list_of_lists:\n",
        "    sums_list.append(sum(sublist))\n",
        "sums_list\n",
        "\n",
        "# Can you do the same sum operations in one line using a list comprehension?\n",
        "sums_list = [sum(sublist) for sublist in list_of_lists]\n",
        "sums_list"
      ]
    },
    {
      "cell_type": "code",
      "execution_count": null,
      "id": "491d3ed6",
      "metadata": {
        "colab": {
          "base_uri": "https://localhost:8080/"
        },
        "id": "491d3ed6",
        "outputId": "b25c4467-45ce-4b81-b94f-f7c6ff108479"
      },
      "outputs": [
        {
          "output_type": "stream",
          "name": "stdout",
          "text": [
            "0 45\n",
            "1 145\n",
            "2 245\n",
            "The sum of [0, 1, 2, 3, 4, 5, 6, 7, 8, 9] is 45\n",
            "The sum of [10, 11, 12, 13, 14, 15, 16, 17, 18, 19] is 145\n",
            "The sum of [20, 21, 22, 23, 24, 25, 26, 27, 28, 29] is 245\n"
          ]
        }
      ],
      "source": [
        "# Use `enumerate()` to loop over the sums_list you just calculated, and print index and value of every element:\n",
        "for i, val in enumerate(sums_list):\n",
        "    print(i, val)\n",
        "\n",
        "# Use `zip()` to loop simultaneously over list_of_lists and sums_list, and print each of the 10-elements list\n",
        "# and their sum:\n",
        "\n",
        "for sublist, sublist_sum in zip(list_of_lists, sums_list):\n",
        "    print(f\"The sum of {sublist} is {sublist_sum}\")"
      ]
    },
    {
      "cell_type": "code",
      "execution_count": null,
      "id": "02e9a149",
      "metadata": {
        "colab": {
          "base_uri": "https://localhost:8080/"
        },
        "id": "02e9a149",
        "outputId": "df947330-a0c2-4378-f911-6551d7ccfefa"
      },
      "outputs": [
        {
          "output_type": "execute_result",
          "data": {
            "text/plain": [
              "['The',\n",
              " 'brain',\n",
              " 'is',\n",
              " 'a',\n",
              " 'world',\n",
              " 'consisting',\n",
              " 'of',\n",
              " 'a',\n",
              " 'number',\n",
              " 'of',\n",
              " 'unexplored',\n",
              " 'continents',\n",
              " 'and',\n",
              " 'great',\n",
              " 'stretches',\n",
              " 'of',\n",
              " 'unknown',\n",
              " 'territory.']"
            ]
          },
          "metadata": {},
          "execution_count": 18
        }
      ],
      "source": [
        "word_list"
      ]
    },
    {
      "cell_type": "code",
      "execution_count": null,
      "id": "b92a303f",
      "metadata": {
        "id": "b92a303f"
      },
      "outputs": [],
      "source": [
        "# Start from the list of words defined in the previous exercises.\n",
        "# Create again a dictionary where each word is the key, and the length of that word is the length,\n",
        "# but now in a smart way, with a for loop:\n",
        "a_dict = dict()\n",
        "for word in word_list:\n",
        "    a_dict[word] = len(word)\n",
        "\n",
        "# Can you do it in one line with a dictionary comprehension?\n",
        "# a_dict = ...\n",
        "a_dict = {word: len(word) for word in word_list}"
      ]
    },
    {
      "cell_type": "code",
      "execution_count": null,
      "id": "4c07bebf",
      "metadata": {
        "colab": {
          "base_uri": "https://localhost:8080/"
        },
        "id": "4c07bebf",
        "outputId": "b99fca31-e2cf-465c-9087-e20cd5b63050"
      },
      "outputs": [
        {
          "output_type": "execute_result",
          "data": {
            "text/plain": [
              "['consisting',\n",
              " 'number',\n",
              " 'unexplored',\n",
              " 'continents',\n",
              " 'stretches',\n",
              " 'unknown',\n",
              " 'territory.']"
            ]
          },
          "metadata": {},
          "execution_count": 20
        }
      ],
      "source": [
        "# You can add a conditional inside a list/dictionary comprehension:\n",
        "# ```\n",
        "# filtered_values = [v for v in a_list if (a condition)]\n",
        "# ```\n",
        "\n",
        "# Knowing this, go through the list of word defined in Ex. 0.1 with the split, and add words to this\n",
        "# new list only if the word length is > 5:\n",
        "\n",
        "long_words = [word for word in word_list if len(word) > 5]\n",
        "long_words"
      ]
    },
    {
      "cell_type": "code",
      "execution_count": null,
      "id": "9432f913",
      "metadata": {
        "id": "9432f913"
      },
      "outputs": [],
      "source": []
    }
  ],
  "metadata": {
    "kernelspec": {
      "display_name": "Python 3 (ipykernel)",
      "language": "python",
      "name": "python3"
    },
    "language_info": {
      "codemirror_mode": {
        "name": "ipython",
        "version": 3
      },
      "file_extension": ".py",
      "mimetype": "text/x-python",
      "name": "python",
      "nbconvert_exporter": "python",
      "pygments_lexer": "ipython3"
    },
    "colab": {
      "provenance": [],
      "name": "practicals_2.ipynb",
      "include_colab_link": true
    }
  },
  "nbformat": 4,
  "nbformat_minor": 5
}