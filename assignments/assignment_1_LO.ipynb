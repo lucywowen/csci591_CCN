{
  "cells": [
    {
      "cell_type": "markdown",
      "metadata": {
        "id": "view-in-github",
        "colab_type": "text"
      },
      "source": [
        "<a href=\"https://colab.research.google.com/github/lucywowen/csci591_CCN/blob/main/assignments/assignment_1_LO.ipynb\" target=\"_parent\"><img src=\"https://colab.research.google.com/assets/colab-badge.svg\" alt=\"Open In Colab\"/></a>"
      ]
    },
    {
      "cell_type": "markdown",
      "metadata": {
        "id": "INkAgt-hTY_-"
      },
      "source": [
        "# Assignment 1 -  & Computational Programming"
      ]
    },
    {
      "cell_type": "markdown",
      "metadata": {
        "id": "FTEAadCkTZAA"
      },
      "source": [
        "## *YOUR FULL NAME HERE*\n",
        "Netid: Your netid here\n",
        "\n",
        "*Names of students you worked with on this assignment*: LIST HERE IF APPLICABLE (delete if not)\n",
        "\n",
        "Note: this assignment falls under collaboration Mode 2: Individual Assignment – Collaboration Permitted. Please refer to the syllabus on Canvas for additional information."
      ]
    },
    {
      "cell_type": "markdown",
      "metadata": {
        "id": "mzkmvTNfTZAA"
      },
      "source": [
        "Instructions for all assignments can be found [here](https://github.com/kylebradbury/ids705/blob/master/assignments/_Assignment%20Instructions.ipynb), and is also linked to from the [course syllabus](https://kylebradbury.github.io/ids705/index.html).\n",
        "\n",
        "Total points in the assignment add up to 90; an additional 10 points are allocated to presentation quality."
      ]
    },
    {
      "cell_type": "markdown",
      "metadata": {
        "id": "IAPvzGDXTZAA"
      },
      "source": [
        "#  Learning Objectives\n",
        "The purpose of this assignment is to provide a refresher on fundamental concepts that we will use throughout this course, and provide an opportunity to develop skills in any of the related skills that may be unfamiliar to you. Through the course of completing this assignment, you will...\n",
        "- Practice numerical programming by loading and filtering data, plotting data, vectorizing operations, profiling code speed, and debugging and optimizing performance. You will also practice computing probabilities based on simulation.\n",
        "- Develop or refresh your knowledge of Git version control, which will be a core tool used in the final project of this course\n",
        "- Apply your skills altogether through an exploratory data analysis to practice data cleaning, data manipulation, interpretation, and communication\n",
        "\n",
        "We will build on these concepts throughout the course, so use this assignment as a catalyst to deepen your knowledge and seek help with anything that is unfamiliar.\n"
      ]
    },
    {
      "cell_type": "markdown",
      "metadata": {
        "id": "ntZoXcmBTZAB"
      },
      "source": [
        "*Note: for all assignments, write out all equations and math using markdown and [LaTeX](https://tobi.oetiker.ch/lshort/lshort.pdf). For this assignment show ALL math work*"
      ]
    },
    {
      "cell_type": "markdown",
      "metadata": {
        "id": "8kS629PqTZAD"
      },
      "source": [
        "**ANSWER**"
      ]
    },
    {
      "cell_type": "markdown",
      "metadata": {
        "id": "zJo_2az4TZAD"
      },
      "source": [
        "# Numerical Programming"
      ]
    },
    {
      "cell_type": "markdown",
      "metadata": {
        "id": "QeMy78fGTZAD"
      },
      "source": [
        "## 1\n",
        "**[20 points]** Loading data and gathering insights from a real dataset\n",
        "\n",
        "In data science, we often need to have a sense of the idiosyncrasies of the data, how they relate to the questions we are trying to answer, and to use that information to help us to determine what approach, such as machine learning, we may need to apply to achieve our goal. This exercise provides practice in exploring a dataset and answering question that might arise from applications related to the data.\n",
        "\n",
        "**Data**. The data for this problem can be found in the `data` subfolder in the `assignments` folder on [github](https://github.com/kylebradbury/ids705). The filename is `a1_egrid2016.xlsx`. This dataset is the Environmental Protection Agency's (EPA) [Emissions & Generation Resource Integrated Database (eGRID)](https://www.epa.gov/energy/emissions-generation-resource-integrated-database-egrid) containing information about all power plants in the United States, the amount of generation they produce, what fuel they use, the location of the plant, and many more quantities. We'll be using a subset of those data.\n",
        "\n",
        "The fields we'll be using include:\n",
        "    \n",
        "|field    |description|\n",
        "|:-----   |:-----|\n",
        "|SEQPLT16 |eGRID2016 Plant file sequence number (the index)|\n",
        "|PSTATABB |Plant state abbreviation|\n",
        "|PNAME    |Plant name |\n",
        "|LAT      |Plant latitude |\n",
        "|LON      |Plant longitude|\n",
        "|PLPRMFL  |Plant primary fuel |\n",
        "|CAPFAC   |Plant capacity factor |\n",
        "|NAMEPCAP |Plant nameplate capacity (Megawatts MW)|\n",
        "|PLNGENAN |Plant annual net generation (Megawatt-hours MWh)|\n",
        "|PLCO2EQA |Plant annual CO2 equivalent emissions (tons)|\n",
        "\n",
        "For more details on the data, you can refer to the [eGrid technical documents](https://www.epa.gov/sites/default/files/2021-02/documents/egrid2019_technical_guide.pdf). For example, you may want to review page 45 and the section \"Plant Primary Fuel (PLPRMFL)\", which gives the full names of the fuel types including WND for wind, NG for natural gas, BIT for Bituminous coal, etc.\n",
        "\n",
        "There also are a couple of \"gotchas\" to watch out for with this dataset:\n",
        "- The headers are on the second row and you'll want to ignore the first row (they're more detailed descriptions of the headers).\n",
        "- NaN values represent blanks in the data. These will appear regularly in real-world data, so getting experience working with it will be important.\n",
        "\n",
        "**Your objective**. For this dataset, your goal is answer the following questions about electricity generation in the United States:\n",
        "\n",
        "**(a)** Which plant has generated the most energy (measured in MWh)?\n",
        "\n",
        "**(b)** What is the name of the northern-most power plant in the United States?\n",
        "\n",
        "**(c)** What is the state where the northern-most power plant in the United States is located?\n",
        "\n",
        "**(d)** Plot a bar plot showing the amount of energy produced by each fuel type across all plants.\n",
        "\n",
        "**(e)** From the plot in (d), which fuel for generation produces the most energy (MWh) in the United States?"
      ]
    },
    {
      "cell_type": "markdown",
      "metadata": {
        "id": "NFX1SSqATZAD"
      },
      "source": [
        "**ANSWER**"
      ]
    },
    {
      "cell_type": "markdown",
      "metadata": {
        "id": "uENxx9_VTZAD"
      },
      "source": [
        "# Version Control via Git"
      ]
    },
    {
      "cell_type": "markdown",
      "metadata": {
        "id": "shzvGVzgTZAE"
      },
      "source": [
        "## 2\n",
        "**[10 points]** Git is efficient for collaboration, and expectation in industry, and one of the best ways to share results in academia. You can even use some Git repositories (e.g. Github) as hosts for website, such as with the [course website](https://kylebradbury.github.io/ids705/index.html). As a data scientist with experience in machine learning, Git is expected. We will interact with Git repositories (a.k.a. repos) throughout this course, and your project will require the use of git repos for collaboration.\n",
        "\n",
        "Complete the [Atlassian Git tutorial](https://www.atlassian.com/git/tutorials/what-is-version-control), specifically the following listed sections. Try each concept that's presented. For this tutorial, instead of using BitBucket as your remote repository host, you may use your preferred platform such as [Github](https://github.com/) or [Duke's Gitlab](https://gitlab.oit.duke.edu/users/sign_in).\n",
        "1. [What is version control](https://www.atlassian.com/git/tutorials/what-is-version-control)\n",
        "2. [What is Git](https://www.atlassian.com/git/tutorials/what-is-git)\n",
        "3. [Install Git](https://www.atlassian.com/git/tutorials/install-git)\n",
        "4. [Setting up a repository](https://www.atlassian.com/git/tutorials/install-git)\n",
        "5. [Saving changes](https://www.atlassian.com/git/tutorials/saving-changes)\n",
        "6. [Inspecting a repository](https://www.atlassian.com/git/tutorials/inspecting-a-repository)\n",
        "7. [Undoing changes](https://www.atlassian.com/git/tutorials/undoing-changes)\n",
        "8. [Rewriting history](https://www.atlassian.com/git/tutorials/rewriting-history)\n",
        "9. [Syncing](https://www.atlassian.com/git/tutorials/syncing)\n",
        "10. [Making a pull request](https://www.atlassian.com/git/tutorials/making-a-pull-request)\n",
        "11. [Using branches](https://www.atlassian.com/git/tutorials/using-branches)\n",
        "12. [Comparing workflows](https://www.atlassian.com/git/tutorials/comparing-workflows)\n",
        "\n",
        "I also have created two videos on the topic to help you understand some of these concepts: [Git basics](https://www.youtube.com/watch?v=fBCwfoBr2ng) and a [step-by-step tutorial](https://www.youtube.com/watch?v=nH7qJHx-h5s).\n",
        "\n",
        "For your answer, affirm that you *either* completed the tutorials above OR have previous experience with ALL of the concepts above. Confirm this by typing your name below and selecting the situation that applies from the two options in brackets."
      ]
    },
    {
      "cell_type": "markdown",
      "metadata": {
        "id": "BASw0yPhTZAE"
      },
      "source": [
        "**ANSWER**\n",
        "\n",
        "*I, [**your name here**], affirm that I have [**completed the above tutorial / I have previous experience that covers all the content in this tutorial**]*"
      ]
    },
    {
      "cell_type": "markdown",
      "metadata": {
        "id": "Ip7LwEpCTZAE"
      },
      "source": [
        "# Exploratory Data Analysis\n",
        "## 3\n",
        "**[30 points]** Here you'll bring together some of the individual skills that you demonstrated above and create a Jupyter notebook based blog post on your exploratory data analysis. Your goal is to identify a question or problem and to work towards solving it or providing additional information or evidence (data) related to it through your data analysis. Below, we walk through a process to follow for your analysis. Additionally, you can find an [example of a well-done exploratory data analysis here from past years](https://github.com/kylebradbury/ids705/blob/master/assignments/Assignment_1_Q11_Example.ipynb).\n",
        "\n",
        "1. Find a dataset that interests you and relates to a question or problem that you find intriguing.\n",
        "2. Describe the dataset, the source of the data, and the reason the dataset was of interest. What question are you hoping to answer through exploring the dataset?\n",
        "3. Check the data and see if they need to be cleaned: are there missing values? Are there clearly erroneous values? Do two tables need to be merged together? Clean the data so it can be visualized. If the data are clean, state how you know they are clean (what did you check?).\n",
        "3. Plot the data, demonstrating interesting features that you discover. Are there any relationships between variables that were surprising or patterns that emerged? Please exercise creativity and curiosity in your plots. You should have at least a ~3 plots exploring the data in different ways.\n",
        "4. What insights are you able to take away from exploring the data? Is there a reason why analyzing the dataset you chose is particularly interesting or important? Summarize this for a general audience (imagine your publishing a blog post online) - boil down your findings in a way that is accessible, but still accurate.\n",
        "\n",
        "Here your analysis will evaluated based on:\n",
        "1. Motivation: was the purpose of the choice of data clearly articulated? Why was the dataset chosen and what was the goal of the analysis?\n",
        "2. Data cleaning: were any issues with the data investigated and, if found, were they resolved?\n",
        "3. Quality of data exploration: were at least 4 unique plots (minimum) included and did those plots demonstrate interesting aspects of the data? Was there a clear purpose and takeaway from EACH plot?\n",
        "4. Interpretation: Were the insights revealed through the analysis and their potential implications clearly explained? Was there an overall conclusion to the analysis?"
      ]
    },
    {
      "cell_type": "markdown",
      "metadata": {
        "id": "l56U-8r9TZAE"
      },
      "source": [
        "**ANSWER**"
      ]
    }
  ],
  "metadata": {
    "kernelspec": {
      "display_name": "Python 3 (ipykernel)",
      "language": "python",
      "name": "python3"
    },
    "language_info": {
      "codemirror_mode": {
        "name": "ipython",
        "version": 3
      },
      "file_extension": ".py",
      "mimetype": "text/x-python",
      "name": "python",
      "nbconvert_exporter": "python",
      "pygments_lexer": "ipython3",
      "version": "3.11.5"
    },
    "nteract": {
      "version": "0.28.0"
    },
    "varInspector": {
      "cols": {
        "lenName": 16,
        "lenType": 16,
        "lenVar": 40
      },
      "kernels_config": {
        "python": {
          "delete_cmd_postfix": "",
          "delete_cmd_prefix": "del ",
          "library": "var_list.py",
          "varRefreshCmd": "print(var_dic_list())"
        },
        "r": {
          "delete_cmd_postfix": ") ",
          "delete_cmd_prefix": "rm(",
          "library": "var_list.r",
          "varRefreshCmd": "cat(var_dic_list()) "
        }
      },
      "position": {
        "height": "643px",
        "left": "1548px",
        "right": "20px",
        "top": "121px",
        "width": "350px"
      },
      "types_to_exclude": [
        "module",
        "function",
        "builtin_function_or_method",
        "instance",
        "_Feature"
      ],
      "window_display": true
    },
    "colab": {
      "provenance": [],
      "name": "assignment_1_LO.ipynb",
      "include_colab_link": true
    }
  },
  "nbformat": 4,
  "nbformat_minor": 0
}